{
 "cells": [
  {
   "cell_type": "markdown",
   "metadata": {},
   "source": [
    "## Spike sorting demo for BRW files\n",
    "----\n",
    "\n",
    "https://gist.github.com/mhhennig/97453faec66ea78f96e61a193f699e6c"
   ]
  },
  {
   "cell_type": "code",
   "execution_count": 1,
   "metadata": {},
   "outputs": [],
   "source": [
    "import matplotlib.pyplot as plt\n",
    "import numpy as np\n",
    "import time\n",
    "import sys, os\n",
    "\n",
    "import spikeinterface.full as si\n",
    "# import spikeinterface.spiketoolkit as st\n",
    "# import spikesorters as ss\n",
    "# import spikewidgets as sw\n",
    "\n",
    "%matplotlib inline"
   ]
  },
  {
   "cell_type": "code",
   "execution_count": 2,
   "metadata": {},
   "outputs": [],
   "source": [
    "raw_file = 'data/s1_bs.brw'"
   ]
  },
  {
   "cell_type": "code",
   "execution_count": 3,
   "metadata": {},
   "outputs": [
    {
     "ename": "OSError",
     "evalue": "Unable to open file (truncated file: eof = 5106565120, sblock->base_addr = 0, stored_eof = 16956388448)",
     "output_type": "error",
     "traceback": [
      "\u001b[0;31m---------------------------------------------------------------------------\u001b[0m",
      "\u001b[0;31mOSError\u001b[0m                                   Traceback (most recent call last)",
      "Cell \u001b[0;32mIn[3], line 1\u001b[0m\n\u001b[0;32m----> 1\u001b[0m RX \u001b[39m=\u001b[39m si\u001b[39m.\u001b[39;49mBiocamRecordingExtractor(raw_file)\n",
      "File \u001b[0;32m~/Desktop/code/brw_spikesorting/.venv/lib/python3.9/site-packages/spikeinterface/extractors/neoextractors/biocam.py:50\u001b[0m, in \u001b[0;36mBiocamRecordingExtractor.__init__\u001b[0;34m(self, file_path, mea_pitch, electrode_width, stream_id, stream_name, all_annotations, use_names_as_ids)\u001b[0m\n\u001b[1;32m     39\u001b[0m \u001b[39mdef\u001b[39;00m \u001b[39m__init__\u001b[39m(\n\u001b[1;32m     40\u001b[0m     \u001b[39mself\u001b[39m,\n\u001b[1;32m     41\u001b[0m     file_path,\n\u001b[0;32m   (...)\u001b[0m\n\u001b[1;32m     47\u001b[0m     use_names_as_ids: \u001b[39mbool\u001b[39m \u001b[39m=\u001b[39m \u001b[39mFalse\u001b[39;00m,\n\u001b[1;32m     48\u001b[0m ):\n\u001b[1;32m     49\u001b[0m     neo_kwargs \u001b[39m=\u001b[39m \u001b[39mself\u001b[39m\u001b[39m.\u001b[39mmap_to_neo_kwargs(file_path)\n\u001b[0;32m---> 50\u001b[0m     NeoBaseRecordingExtractor\u001b[39m.\u001b[39;49m\u001b[39m__init__\u001b[39;49m(\n\u001b[1;32m     51\u001b[0m         \u001b[39mself\u001b[39;49m,\n\u001b[1;32m     52\u001b[0m         stream_id\u001b[39m=\u001b[39;49mstream_id,\n\u001b[1;32m     53\u001b[0m         stream_name\u001b[39m=\u001b[39;49mstream_name,\n\u001b[1;32m     54\u001b[0m         all_annotations\u001b[39m=\u001b[39;49mall_annotations,\n\u001b[1;32m     55\u001b[0m         use_names_as_ids\u001b[39m=\u001b[39;49muse_names_as_ids,\n\u001b[1;32m     56\u001b[0m         \u001b[39m*\u001b[39;49m\u001b[39m*\u001b[39;49mneo_kwargs,\n\u001b[1;32m     57\u001b[0m     )\n\u001b[1;32m     59\u001b[0m     \u001b[39m# load probe from probeinterface\u001b[39;00m\n\u001b[1;32m     60\u001b[0m     probe_kwargs \u001b[39m=\u001b[39m {}\n",
      "File \u001b[0;32m~/Desktop/code/brw_spikesorting/.venv/lib/python3.9/site-packages/spikeinterface/extractors/neoextractors/neobaseextractor.py:188\u001b[0m, in \u001b[0;36mNeoBaseRecordingExtractor.__init__\u001b[0;34m(self, stream_id, stream_name, block_index, all_annotations, use_names_as_ids, **neo_kwargs)\u001b[0m\n\u001b[1;32m    158\u001b[0m \u001b[39mdef\u001b[39;00m \u001b[39m__init__\u001b[39m(\n\u001b[1;32m    159\u001b[0m     \u001b[39mself\u001b[39m,\n\u001b[1;32m    160\u001b[0m     stream_id: Optional[\u001b[39mstr\u001b[39m] \u001b[39m=\u001b[39m \u001b[39mNone\u001b[39;00m,\n\u001b[0;32m   (...)\u001b[0m\n\u001b[1;32m    165\u001b[0m     \u001b[39m*\u001b[39m\u001b[39m*\u001b[39mneo_kwargs: Dict[\u001b[39mstr\u001b[39m, Any],\n\u001b[1;32m    166\u001b[0m ) \u001b[39m-\u001b[39m\u001b[39m>\u001b[39m \u001b[39mNone\u001b[39;00m:\n\u001b[1;32m    167\u001b[0m \u001b[39m    \u001b[39m\u001b[39m\"\"\"\u001b[39;00m\n\u001b[1;32m    168\u001b[0m \u001b[39m    Initialize a NeoBaseRecordingExtractor instance.\u001b[39;00m\n\u001b[1;32m    169\u001b[0m \n\u001b[0;32m   (...)\u001b[0m\n\u001b[1;32m    185\u001b[0m \n\u001b[1;32m    186\u001b[0m \u001b[39m    \"\"\"\u001b[39;00m\n\u001b[0;32m--> 188\u001b[0m     _NeoBaseExtractor\u001b[39m.\u001b[39;49m\u001b[39m__init__\u001b[39;49m(\u001b[39mself\u001b[39;49m, block_index, \u001b[39m*\u001b[39;49m\u001b[39m*\u001b[39;49mneo_kwargs)\n\u001b[1;32m    190\u001b[0m     kwargs \u001b[39m=\u001b[39m \u001b[39mdict\u001b[39m(all_annotations\u001b[39m=\u001b[39mall_annotations)\n\u001b[1;32m    191\u001b[0m     \u001b[39mif\u001b[39;00m block_index \u001b[39mis\u001b[39;00m \u001b[39mnot\u001b[39;00m \u001b[39mNone\u001b[39;00m:\n",
      "File \u001b[0;32m~/Desktop/code/brw_spikesorting/.venv/lib/python3.9/site-packages/spikeinterface/extractors/neoextractors/neobaseextractor.py:27\u001b[0m, in \u001b[0;36m_NeoBaseExtractor.__init__\u001b[0;34m(self, block_index, **neo_kwargs)\u001b[0m\n\u001b[1;32m     23\u001b[0m \u001b[39mdef\u001b[39;00m \u001b[39m__init__\u001b[39m(\u001b[39mself\u001b[39m, block_index, \u001b[39m*\u001b[39m\u001b[39m*\u001b[39mneo_kwargs):\n\u001b[1;32m     24\u001b[0m \n\u001b[1;32m     25\u001b[0m     \u001b[39m# Avoids double initiation of the neo reader if it was already done in the __init__ of the child class\u001b[39;00m\n\u001b[1;32m     26\u001b[0m     \u001b[39mif\u001b[39;00m \u001b[39mnot\u001b[39;00m \u001b[39mhasattr\u001b[39m(\u001b[39mself\u001b[39m, \u001b[39m\"\u001b[39m\u001b[39mneo_reader\u001b[39m\u001b[39m\"\u001b[39m):\n\u001b[0;32m---> 27\u001b[0m         \u001b[39mself\u001b[39m\u001b[39m.\u001b[39mneo_reader \u001b[39m=\u001b[39m \u001b[39mself\u001b[39;49m\u001b[39m.\u001b[39;49mget_neo_io_reader(\u001b[39mself\u001b[39;49m\u001b[39m.\u001b[39;49mNeoRawIOClass, \u001b[39m*\u001b[39;49m\u001b[39m*\u001b[39;49mneo_kwargs)\n\u001b[1;32m     29\u001b[0m     \u001b[39mif\u001b[39;00m \u001b[39mself\u001b[39m\u001b[39m.\u001b[39mneo_reader\u001b[39m.\u001b[39mblock_count() \u001b[39m>\u001b[39m \u001b[39m1\u001b[39m \u001b[39mand\u001b[39;00m block_index \u001b[39mis\u001b[39;00m \u001b[39mNone\u001b[39;00m:\n\u001b[1;32m     30\u001b[0m         \u001b[39mraise\u001b[39;00m \u001b[39mException\u001b[39;00m(\n\u001b[1;32m     31\u001b[0m             \u001b[39m\"\u001b[39m\u001b[39mThis dataset is multi-block. Spikeinterface can load one block at a time. \u001b[39m\u001b[39m\"\u001b[39m\n\u001b[1;32m     32\u001b[0m             \u001b[39m\"\u001b[39m\u001b[39mUse \u001b[39m\u001b[39m'\u001b[39m\u001b[39mblock_index\u001b[39m\u001b[39m'\u001b[39m\u001b[39m to select the block to be loaded.\u001b[39m\u001b[39m\"\u001b[39m\n\u001b[1;32m     33\u001b[0m         )\n",
      "File \u001b[0;32m~/Desktop/code/brw_spikesorting/.venv/lib/python3.9/site-packages/spikeinterface/extractors/neoextractors/neobaseextractor.py:66\u001b[0m, in \u001b[0;36m_NeoBaseExtractor.get_neo_io_reader\u001b[0;34m(cls, raw_class, **neo_kwargs)\u001b[0m\n\u001b[1;32m     64\u001b[0m neoIOclass \u001b[39m=\u001b[39m \u001b[39mgetattr\u001b[39m(rawio_module, raw_class)\n\u001b[1;32m     65\u001b[0m neo_reader \u001b[39m=\u001b[39m neoIOclass(\u001b[39m*\u001b[39m\u001b[39m*\u001b[39mneo_kwargs)\n\u001b[0;32m---> 66\u001b[0m neo_reader\u001b[39m.\u001b[39;49mparse_header()\n\u001b[1;32m     68\u001b[0m \u001b[39mreturn\u001b[39;00m neo_reader\n",
      "File \u001b[0;32m~/Desktop/code/brw_spikesorting/.venv/lib/python3.9/site-packages/neo/rawio/baserawio.py:189\u001b[0m, in \u001b[0;36mBaseRawIO.parse_header\u001b[0;34m(self)\u001b[0m\n\u001b[1;32m    176\u001b[0m \u001b[39m\u001b[39m\u001b[39m\"\"\"\u001b[39;00m\n\u001b[1;32m    177\u001b[0m \u001b[39mParses the header of the file(s) to allow for faster computations\u001b[39;00m\n\u001b[1;32m    178\u001b[0m \u001b[39mfor all other functions\u001b[39;00m\n\u001b[1;32m    179\u001b[0m \n\u001b[1;32m    180\u001b[0m \u001b[39m\"\"\"\u001b[39;00m\n\u001b[1;32m    181\u001b[0m \u001b[39m# this must create\u001b[39;00m\n\u001b[1;32m    182\u001b[0m \u001b[39m# self.header['nb_block']\u001b[39;00m\n\u001b[1;32m    183\u001b[0m \u001b[39m# self.header['nb_segment']\u001b[39;00m\n\u001b[0;32m   (...)\u001b[0m\n\u001b[1;32m    186\u001b[0m \u001b[39m# self.header['spike_channels']\u001b[39;00m\n\u001b[1;32m    187\u001b[0m \u001b[39m# self.header['event_channels']\u001b[39;00m\n\u001b[0;32m--> 189\u001b[0m \u001b[39mself\u001b[39;49m\u001b[39m.\u001b[39;49m_parse_header()\n\u001b[1;32m    190\u001b[0m \u001b[39mself\u001b[39m\u001b[39m.\u001b[39m_check_stream_signal_channel_characteristics()\n\u001b[1;32m    191\u001b[0m \u001b[39mself\u001b[39m\u001b[39m.\u001b[39mis_header_parsed \u001b[39m=\u001b[39m \u001b[39mTrue\u001b[39;00m\n",
      "File \u001b[0;32m~/Desktop/code/brw_spikesorting/.venv/lib/python3.9/site-packages/neo/rawio/biocamrawio.py:59\u001b[0m, in \u001b[0;36mBiocamRawIO._parse_header\u001b[0;34m(self)\u001b[0m\n\u001b[1;32m     58\u001b[0m \u001b[39mdef\u001b[39;00m \u001b[39m_parse_header\u001b[39m(\u001b[39mself\u001b[39m):\n\u001b[0;32m---> 59\u001b[0m     \u001b[39mself\u001b[39m\u001b[39m.\u001b[39m_header_dict \u001b[39m=\u001b[39m open_biocam_file_header(\u001b[39mself\u001b[39;49m\u001b[39m.\u001b[39;49mfilename)\n\u001b[1;32m     60\u001b[0m     \u001b[39mself\u001b[39m\u001b[39m.\u001b[39m_num_channels \u001b[39m=\u001b[39m \u001b[39mself\u001b[39m\u001b[39m.\u001b[39m_header_dict[\u001b[39m\"\u001b[39m\u001b[39mnum_channels\u001b[39m\u001b[39m\"\u001b[39m]\n\u001b[1;32m     61\u001b[0m     \u001b[39mself\u001b[39m\u001b[39m.\u001b[39m_num_frames \u001b[39m=\u001b[39m \u001b[39mself\u001b[39m\u001b[39m.\u001b[39m_header_dict[\u001b[39m\"\u001b[39m\u001b[39mnum_frames\u001b[39m\u001b[39m\"\u001b[39m]\n",
      "File \u001b[0;32m~/Desktop/code/brw_spikesorting/.venv/lib/python3.9/site-packages/neo/rawio/biocamrawio.py:175\u001b[0m, in \u001b[0;36mopen_biocam_file_header\u001b[0;34m(filename)\u001b[0m\n\u001b[1;32m    161\u001b[0m \u001b[39m\u001b[39m\u001b[39m\"\"\"Open a Biocam hdf5 file, read and return the recording info, pick the correct method to access raw data,\u001b[39;00m\n\u001b[1;32m    162\u001b[0m \u001b[39mand return this to the caller\u001b[39;00m\n\u001b[1;32m    163\u001b[0m \n\u001b[0;32m   (...)\u001b[0m\n\u001b[1;32m    171\u001b[0m \u001b[39mdict\u001b[39;00m\n\u001b[1;32m    172\u001b[0m \u001b[39m    The information necessary to read a biocam file (gain, n_samples, n_channels, etc).\"\"\"\u001b[39;00m\n\u001b[1;32m    173\u001b[0m \u001b[39mimport\u001b[39;00m \u001b[39mh5py\u001b[39;00m\n\u001b[0;32m--> 175\u001b[0m rf \u001b[39m=\u001b[39m h5py\u001b[39m.\u001b[39;49mFile(filename, \u001b[39m\"\u001b[39;49m\u001b[39mr\u001b[39;49m\u001b[39m\"\u001b[39;49m)\n\u001b[1;32m    177\u001b[0m \u001b[39mif\u001b[39;00m \u001b[39m\"\u001b[39m\u001b[39m3BRecInfo\u001b[39m\u001b[39m\"\u001b[39m \u001b[39min\u001b[39;00m rf\u001b[39m.\u001b[39mkeys():  \u001b[39m# brw v3.x\u001b[39;00m\n\u001b[1;32m    178\u001b[0m     \u001b[39m# Read recording variables\u001b[39;00m\n\u001b[1;32m    179\u001b[0m     rec_vars \u001b[39m=\u001b[39m rf\u001b[39m.\u001b[39mrequire_group(\u001b[39m\"\u001b[39m\u001b[39m3BRecInfo/3BRecVars/\u001b[39m\u001b[39m\"\u001b[39m)\n",
      "File \u001b[0;32m~/Desktop/code/brw_spikesorting/.venv/lib/python3.9/site-packages/h5py/_hl/files.py:562\u001b[0m, in \u001b[0;36mFile.__init__\u001b[0;34m(self, name, mode, driver, libver, userblock_size, swmr, rdcc_nslots, rdcc_nbytes, rdcc_w0, track_order, fs_strategy, fs_persist, fs_threshold, fs_page_size, page_buf_size, min_meta_keep, min_raw_keep, locking, alignment_threshold, alignment_interval, meta_block_size, **kwds)\u001b[0m\n\u001b[1;32m    553\u001b[0m     fapl \u001b[39m=\u001b[39m make_fapl(driver, libver, rdcc_nslots, rdcc_nbytes, rdcc_w0,\n\u001b[1;32m    554\u001b[0m                      locking, page_buf_size, min_meta_keep, min_raw_keep,\n\u001b[1;32m    555\u001b[0m                      alignment_threshold\u001b[39m=\u001b[39malignment_threshold,\n\u001b[1;32m    556\u001b[0m                      alignment_interval\u001b[39m=\u001b[39malignment_interval,\n\u001b[1;32m    557\u001b[0m                      meta_block_size\u001b[39m=\u001b[39mmeta_block_size,\n\u001b[1;32m    558\u001b[0m                      \u001b[39m*\u001b[39m\u001b[39m*\u001b[39mkwds)\n\u001b[1;32m    559\u001b[0m     fcpl \u001b[39m=\u001b[39m make_fcpl(track_order\u001b[39m=\u001b[39mtrack_order, fs_strategy\u001b[39m=\u001b[39mfs_strategy,\n\u001b[1;32m    560\u001b[0m                      fs_persist\u001b[39m=\u001b[39mfs_persist, fs_threshold\u001b[39m=\u001b[39mfs_threshold,\n\u001b[1;32m    561\u001b[0m                      fs_page_size\u001b[39m=\u001b[39mfs_page_size)\n\u001b[0;32m--> 562\u001b[0m     fid \u001b[39m=\u001b[39m make_fid(name, mode, userblock_size, fapl, fcpl, swmr\u001b[39m=\u001b[39;49mswmr)\n\u001b[1;32m    564\u001b[0m \u001b[39mif\u001b[39;00m \u001b[39misinstance\u001b[39m(libver, \u001b[39mtuple\u001b[39m):\n\u001b[1;32m    565\u001b[0m     \u001b[39mself\u001b[39m\u001b[39m.\u001b[39m_libver \u001b[39m=\u001b[39m libver\n",
      "File \u001b[0;32m~/Desktop/code/brw_spikesorting/.venv/lib/python3.9/site-packages/h5py/_hl/files.py:235\u001b[0m, in \u001b[0;36mmake_fid\u001b[0;34m(name, mode, userblock_size, fapl, fcpl, swmr)\u001b[0m\n\u001b[1;32m    233\u001b[0m     \u001b[39mif\u001b[39;00m swmr \u001b[39mand\u001b[39;00m swmr_support:\n\u001b[1;32m    234\u001b[0m         flags \u001b[39m|\u001b[39m\u001b[39m=\u001b[39m h5f\u001b[39m.\u001b[39mACC_SWMR_READ\n\u001b[0;32m--> 235\u001b[0m     fid \u001b[39m=\u001b[39m h5f\u001b[39m.\u001b[39;49mopen(name, flags, fapl\u001b[39m=\u001b[39;49mfapl)\n\u001b[1;32m    236\u001b[0m \u001b[39melif\u001b[39;00m mode \u001b[39m==\u001b[39m \u001b[39m'\u001b[39m\u001b[39mr+\u001b[39m\u001b[39m'\u001b[39m:\n\u001b[1;32m    237\u001b[0m     fid \u001b[39m=\u001b[39m h5f\u001b[39m.\u001b[39mopen(name, h5f\u001b[39m.\u001b[39mACC_RDWR, fapl\u001b[39m=\u001b[39mfapl)\n",
      "File \u001b[0;32mh5py/_objects.pyx:54\u001b[0m, in \u001b[0;36mh5py._objects.with_phil.wrapper\u001b[0;34m()\u001b[0m\n",
      "File \u001b[0;32mh5py/_objects.pyx:55\u001b[0m, in \u001b[0;36mh5py._objects.with_phil.wrapper\u001b[0;34m()\u001b[0m\n",
      "File \u001b[0;32mh5py/h5f.pyx:102\u001b[0m, in \u001b[0;36mh5py.h5f.open\u001b[0;34m()\u001b[0m\n",
      "\u001b[0;31mOSError\u001b[0m: Unable to open file (truncated file: eof = 5106565120, sblock->base_addr = 0, stored_eof = 16956388448)"
     ]
    }
   ],
   "source": [
    "RX = si.BiocamRecordingExtractor(raw_file)"
   ]
  },
  {
   "cell_type": "code",
   "execution_count": null,
   "metadata": {},
   "outputs": [],
   "source": [
    "plt.figure(figsize=(14,4))\n",
    "ax = plt.subplot(111)\n",
    "si.plot_timeseries(RX, channels=range(14), trange=[0,2], ax=ax)"
   ]
  }
 ],
 "metadata": {
  "kernelspec": {
   "display_name": ".venv",
   "language": "python",
   "name": "python3"
  },
  "language_info": {
   "codemirror_mode": {
    "name": "ipython",
    "version": 3
   },
   "file_extension": ".py",
   "mimetype": "text/x-python",
   "name": "python",
   "nbconvert_exporter": "python",
   "pygments_lexer": "ipython3",
   "version": "3.9.13"
  },
  "orig_nbformat": 4
 },
 "nbformat": 4,
 "nbformat_minor": 2
}

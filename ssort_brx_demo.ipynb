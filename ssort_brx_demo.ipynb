{
 "cells": [
  {
   "cell_type": "code",
   "execution_count": 11,
   "metadata": {},
   "outputs": [
    {
     "name": "stdout",
     "output_type": "stream",
     "text": [
      "['ExperimentSettings', 'ImageLayers', 'TOC', 'Well_A1']\n",
      "<KeysViewHDF5 ['NoiseChIdxs', 'NoiseMean', 'NoiseStdDev', 'NoiseTOC', 'SpikeChIdxs', 'SpikeForms', 'SpikeTOC', 'SpikeTimes', 'StoredChIdxs']>\n"
     ]
    }
   ],
   "source": [
    "import h5py\n",
    "import pathlib\n",
    "\n",
    "# Open the .brx file\n",
    "brx_file = h5py.File(pathlib.Path('data/s2_bs.bxr'), 'r')\n",
    "\n",
    "# Check the structure of the file (groups, datasets)\n",
    "print(list(brx_file.keys()))\n",
    "\n",
    "# Accessing specific datasets\n",
    "dataset = brx_file['Well_A1'].keys()\n",
    "print(dataset)\n",
    "\n",
    "# # Don't forget to close the file\n",
    "# brx_file.close()\n"
   ]
  },
  {
   "cell_type": "code",
   "execution_count": 20,
   "metadata": {},
   "outputs": [
    {
     "data": {
      "text/plain": [
       "array([   1,    2,    3, ..., 2960, 3281, 3600])"
      ]
     },
     "execution_count": 20,
     "metadata": {},
     "output_type": "execute_result"
    }
   ],
   "source": [
    "brx_file['Well_A1']['NoiseChIdxs'][:]"
   ]
  },
  {
   "cell_type": "code",
   "execution_count": 30,
   "metadata": {},
   "outputs": [
    {
     "data": {
      "text/plain": [
       "array([b'{\\r\\n  \"TimelineEvents\": [],\\r\\n  \"ValueConverter\": {\\r\\n    \"MinAnalogValue\": -8000.0,\\r\\n    \"MaxAnalogValue\": 8000.0,\\r\\n    \"MaxDigitalValue\": 4095,\\r\\n    \"MinDigitalValue\": 0,\\r\\n    \"ScaleFactor\": 1.0,\\r\\n    \"JsonVersion\": 0\\r\\n  },\\r\\n  \"TimeConverter\": {\\r\\n    \"FrameRate\": 13773.4453125\\r\\n  },\\r\\n  \"ExperimentType\": \"Standard\",\\r\\n  \"ExperimentSettings\": {\\r\\n    \"Description\": null,\\r\\n    \"JsonVersion\": 0\\r\\n  },\\r\\n  \"SourceFilterSettings\": {\\r\\n    \"HighPassFilterCutOffFrequency\": 10.0,\\r\\n    \"HighPassFilterOrder\": 2,\\r\\n    \"JsonVersion\": 0\\r\\n  },\\r\\n  \"BiologicalModel\": \"BrainSlice\",\\r\\n  \"TimelineIntervals\": [],\\r\\n  \"DataSettings\": {\\r\\n    \"Raw\": {\\r\\n      \"$type\": \"RawDataSettings\",\\r\\n      \"JsonVersion\": 0\\r\\n    },\\r\\n    \"Noise\": {\\r\\n      \"$type\": \"NoiseInfoDetectionSettings\",\\r\\n      \"DiscardOutliers\": true,\\r\\n      \"JsonVersion\": 0\\r\\n    },\\r\\n    \"Spikes\": {\\r\\n      \"$type\": \"SpikeDetectionSettings\",\\r\\n      \"WaveformExtractionSettings\": {\\r\\n        \"PrePeriodMs\": 1.0,\\r\\n        \"PostPeriodMs\": 1.5,\\r\\n        \"PreAnalysisPeriodMs\": 0.5,\\r\\n        \"PostAnalysisPeriodMs\": 1.0,\\r\\n        \"DiscardIncomplete\": true,\\r\\n        \"JsonVersion\": 0\\r\\n      },\\r\\n      \"LocalizationSettings\": {\\r\\n        \"Algorithm\": \"COM\",\\r\\n        \"NeighborsScope\": \"Nearest8\",\\r\\n        \"JsonVersion\": 0\\r\\n      },\\r\\n      \"FeatureExtractionSettings\": {\\r\\n        \"Algorithm\": \"TchebichefMoment\",\\r\\n        \"NFeatures\": 5,\\r\\n        \"JsonVersion\": 0\\r\\n      },\\r\\n      \"SourceDataType\": \"Raw\",\\r\\n      \"AI-Validation\": false,\\r\\n      \"Algorithm\": \"Swdt\",\\r\\n      \"HtThresholduV\": -350.0,\\r\\n      \"StdDevFactor\": 8.0,\\r\\n      \"PtsdPeakLifetimePeriodMs\": 2.0,\\r\\n      \"SwdtSlidingWindowLengthMs\": 2.0,\\r\\n      \"RefractoryPeriodMs\": 1.0,\\r\\n      \"AssignmentRule\": \"FastestVaryingPeak\",\\r\\n      \"IsLocalizationScheduled\": false,\\r\\n      \"PtsdOvershootMs\": 0.7,\\r\\n      \"IsFeatureExtractionScheduled\": false,\\r\\n      \"JsonVersion\": 0\\r\\n    }\\r\\n  },\\r\\n  \"MeaSystem\": {\\r\\n    \"HwVersion\": {\\r\\n      \"Major\": 3,\\r\\n      \"Minor\": 0,\\r\\n      \"Build\": -1,\\r\\n      \"Revision\": -1\\r\\n    },\\r\\n    \"FwVersion\": {\\r\\n      \"Major\": 1,\\r\\n      \"Minor\": 7,\\r\\n      \"Build\": 2,\\r\\n      \"Revision\": 4\\r\\n    }\\r\\n  },\\r\\n  \"MeaPlate\": {\\r\\n    \"Tags\": [],\\r\\n    \"UnitGroups\": [],\\r\\n    \"WellGroups\": [\\r\\n      {\\r\\n        \"Name\": \"Well Group 1\",\\r\\n        \"Treatments\": [],\\r\\n        \"Color\": \"0, 224, 101\",\\r\\n        \"WellsIndexes\": [\\r\\n          0\\r\\n        ],\\r\\n        \"Note\": null,\\r\\n        \"Index\": 0,\\r\\n        \"IsVisible\": true\\r\\n      }\\r\\n    ],\\r\\n    \"Layers\": [\\r\\n      {\\r\\n        \"$type\": \"MeaWell\",\\r\\n        \"Name\": \"A1\",\\r\\n        \"UserDefinedName\": \"MEA Values\",\\r\\n        \"WellIndex\": 0,\\r\\n        \"ZOrder\": 0,\\r\\n        \"IsVisible\": true,\\r\\n        \"Opacity\": 1.0,\\r\\n        \"IsMaskEnabled\": null\\r\\n      },\\r\\n      {\\r\\n        \"$type\": \"MsaImageLayer\",\\r\\n        \"Name\": \"layer_60\",\\r\\n        \"UserDefinedName\": \"s2.jpg\",\\r\\n        \"WellIndex\": 0,\\r\\n        \"ZOrder\": 1,\\r\\n        \"IsVisible\": true,\\r\\n        \"Opacity\": 0.6,\\r\\n        \"IsMaskEnabled\": true,\\r\\n        \"Mask\": {\\r\\n          \"PathPoints\": [\\r\\n            {\\r\\n              \"IsEmpty\": false,\\r\\n              \"X\": 44700.3867,\\r\\n              \"Y\": 40865.6523\\r\\n            },\\r\\n            {\\r\\n              \"IsEmpty\": false,\\r\\n              \"X\": -40815.6875,\\r\\n              \"Y\": 43947.3125\\r\\n            },\\r\\n            {\\r\\n              \"IsEmpty\": false,\\r\\n              \"X\": -43800.62,\\r\\n              \"Y\": -38884.5938\\r\\n            },\\r\\n            {\\r\\n              \"IsEmpty\": false,\\r\\n              \"X\": 41715.4531,\\r\\n              \"Y\": -41966.2539\\r\\n            },\\r\\n            {\\r\\n              \"IsEmpty\": false,\\r\\n              \"X\": 540.0716,\\r\\n              \"Y\": 989.4594\\r\\n            },\\r\\n            {\\r\\n              \"IsEmpty\": false,\\r\\n              \"X\": 547.780151,\\r\\n              \"Y\": 1203.373\\r\\n            },\\r\\n            {\\r\\n              \"IsEmpty\": false,\\r\\n              \"X\": 768.6255,\\r\\n              \"Y\": 1195.41467\\r\\n            },\\r\\n            {\\r\\n              \"IsEmpty\": false,\\r\\n              \"X\": 760.916931,\\r\\n              \"Y\": 981.501038\\r\\n            }\\r\\n          ],\\r\\n          \"PathTypes\": \"AAEBgQABAYE=\"\\r\\n        },\\r\\n        \"Transform\": {\\r\\n          \"Elements\": [\\r\\n            17.3742275,\\r\\n            0.6463865,\\r\\n            -0.626098335,\\r\\n            17.9372272,\\r\\n            -8763.826,\\r\\n            -18097.25\\r\\n          ]\\r\\n        }\\r\\n      }\\r\\n    ],\\r\\n    \"Model\": \"AccuraV2\",\\r\\n    \"ChipRoi\": \"None\",\\r\\n    \"Serial\": 731,\\r\\n    \"JsonVersion\": 0\\r\\n  },\\r\\n  \"SourceInfo\": {\\r\\n    \"FilePath\": \"D:\\\\\\\\Oisorjo\\\\\\\\021023_IN\\\\\\\\s2_bs.brw\",\\r\\n    \"Guid\": \"570983c6-6f94-40ea-823e-f9f031076cde\",\\r\\n    \"JsonVersion\": 0\\r\\n  },\\r\\n  \"ExperimentDateTime\": \"2023-10-02T14:26:40.7539695Z\",\\r\\n  \"JsonVersion\": 0\\r\\n}'],\n",
       "      dtype=object)"
      ]
     },
     "execution_count": 30,
     "metadata": {},
     "output_type": "execute_result"
    }
   ],
   "source": [
    "import pandas as pd\n",
    "\n",
    "brx_file['ExperimentSettings'][:]"
   ]
  },
  {
   "cell_type": "code",
   "execution_count": 45,
   "metadata": {},
   "outputs": [
    {
     "data": {
      "text/plain": [
       "(4094,)"
      ]
     },
     "execution_count": 45,
     "metadata": {},
     "output_type": "execute_result"
    }
   ],
   "source": [
    "import numpy as np\n",
    "np.unique(brx_file['Well_A1']['NoiseChIdxs'][:]).shape"
   ]
  },
  {
   "cell_type": "code",
   "execution_count": null,
   "metadata": {},
   "outputs": [],
   "source": []
  }
 ],
 "metadata": {
  "kernelspec": {
   "display_name": ".venv",
   "language": "python",
   "name": "python3"
  },
  "language_info": {
   "codemirror_mode": {
    "name": "ipython",
    "version": 3
   },
   "file_extension": ".py",
   "mimetype": "text/x-python",
   "name": "python",
   "nbconvert_exporter": "python",
   "pygments_lexer": "ipython3",
   "version": "3.10.1"
  }
 },
 "nbformat": 4,
 "nbformat_minor": 2
}
